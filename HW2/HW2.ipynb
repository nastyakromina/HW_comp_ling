{
 "cells": [
  {
   "cell_type": "code",
   "execution_count": 4,
   "metadata": {},
   "outputs": [],
   "source": [
    "import numpy as np\n",
    "from sklearn.feature_extraction.text import CountVectorizer, TfidfVectorizer\n",
    "from sklearn.metrics.pairwise import cosine_similarity, cosine_distances"
   ]
  },
  {
   "cell_type": "code",
   "execution_count": 5,
   "metadata": {},
   "outputs": [],
   "source": [
    "import os, re\n",
    "from string import punctuation\n",
    "import numpy as np\n",
    "import json\n",
    "from collections import Counter\n",
    "from pprint import pprint\n",
    "punct = set(punctuation)\n",
    "from sklearn.metrics import classification_report"
   ]
  },
  {
   "cell_type": "code",
   "execution_count": 126,
   "metadata": {},
   "outputs": [],
   "source": [
    "# 1) совместить get_closest_match_vec и левенштейна.\n",
    "# Пишу функцию и проверяю ее работу на корпусе без ошибок"
   ]
  },
  {
   "cell_type": "code",
   "execution_count": 128,
   "metadata": {},
   "outputs": [],
   "source": [
    "corpus = [sent.split() for sent in open('correct_sents.txt', encoding='utf8').read().splitlines()]\n",
    "WORDS = Counter()\n",
    "for sent in corpus:\n",
    "    WORDS.update(sent)"
   ]
  },
  {
   "cell_type": "code",
   "execution_count": 129,
   "metadata": {},
   "outputs": [],
   "source": [
    "vocab = list(WORDS.keys())\n",
    "id2word = {i:word for i, word in enumerate(vocab)}\n",
    "\n",
    "vec = TfidfVectorizer(analyzer='char', ngram_range=(1,1))\n",
    "X = vec.fit_transform(vocab)"
   ]
  },
  {
   "cell_type": "code",
   "execution_count": 130,
   "metadata": {},
   "outputs": [],
   "source": [
    "def get_closest_match_vec(text, X, vec, TOPN=3):\n",
    "    v = vec.transform([text])\n",
    "    similarities = cosine_distances(v, X)\n",
    "    topn = similarities.argsort()[0][:TOPN]\n",
    "    \n",
    "    return [id2word[top] for top in topn]"
   ]
  },
  {
   "cell_type": "code",
   "execution_count": 131,
   "metadata": {},
   "outputs": [
    {
     "name": "stdout",
     "output_type": "stream",
     "text": [
      "карандаш\n"
     ]
    }
   ],
   "source": [
    "a = input()"
   ]
  },
  {
   "cell_type": "code",
   "execution_count": 132,
   "metadata": {},
   "outputs": [
    {
     "name": "stdout",
     "output_type": "stream",
     "text": [
      "['наша', 'Наташа', 'Пашка']\n"
     ]
    }
   ],
   "source": [
    "b = get_closest_match_vec(a, X, vec)\n",
    "print(b)"
   ]
  },
  {
   "cell_type": "code",
   "execution_count": 133,
   "metadata": {},
   "outputs": [],
   "source": [
    "def distance(a, b):\n",
    "\n",
    "    n, m = len(a), len(b)\n",
    "    if n > m:\n",
    "        \n",
    "        a, b = b, a\n",
    "        n, m = m, n\n",
    "\n",
    "    current_row = range(n+1)\n",
    "    for u in range(1, m+1):\n",
    "        previous_row, current_row = current_row, [u]+[0]*n\n",
    "        for j in range(1,n+1):\n",
    "            add, delete, change = previous_row[j]+1, current_row[j-1]+1, previous_row[j-1]\n",
    "            if a[j-1] != b[u-1]:\n",
    "                change += 1\n",
    "            current_row[j] = min(add, delete, change)\n",
    "\n",
    "    return current_row[n]"
   ]
  },
  {
   "cell_type": "code",
   "execution_count": 134,
   "metadata": {},
   "outputs": [
    {
     "name": "stdout",
     "output_type": "stream",
     "text": [
      "Расстояние Левенштейна = 5 \n",
      "Лучший вариант - Наташа\n"
     ]
    }
   ],
   "source": [
    "minz = 100\n",
    "for j in b:\n",
    "    d = distance(a,j)\n",
    "    if d<minz:\n",
    "        minz = d\n",
    "        Best = j\n",
    "print(\"Расстояние Левенштейна = \" + str(minz), '\\n'\n",
    "      \"Лучший вариант - \" + Best)"
   ]
  },
  {
   "cell_type": "code",
   "execution_count": 135,
   "metadata": {},
   "outputs": [],
   "source": [
    "# 2) Проверить качество работы такой функции на данных соревнования Диалога\n",
    "# Проверяю на корпусе с ошибками"
   ]
  },
  {
   "cell_type": "code",
   "execution_count": 136,
   "metadata": {},
   "outputs": [],
   "source": [
    "corpus1 = [sent.split() for sent in open('sents_with_mistakes.txt', encoding='utf8').read().splitlines()]\n",
    "WORDS1 = Counter()\n",
    "for sent in corpus1:\n",
    "    WORDS1.update(sent)\n",
    "vocab1 = list(WORDS1.keys())\n",
    "id2word1 = {i:word for i, word in enumerate(vocab1)}\n",
    "\n",
    "vec1 = TfidfVectorizer(analyzer='char', ngram_range=(1,1))\n",
    "X1 = vec1.fit_transform(vocab1)"
   ]
  },
  {
   "cell_type": "code",
   "execution_count": 137,
   "metadata": {},
   "outputs": [
    {
     "name": "stdout",
     "output_type": "stream",
     "text": [
      "['саму', 'по-взрослому', 'деревом']\n"
     ]
    }
   ],
   "source": [
    "b1 = get_closest_match_vec(a, X1, vec1)\n",
    "print(b1)"
   ]
  },
  {
   "cell_type": "code",
   "execution_count": 140,
   "metadata": {},
   "outputs": [
    {
     "name": "stdout",
     "output_type": "stream",
     "text": [
      "Расстояние Левeнштейна = 6 \n",
      "Лучший вариант - саму\n"
     ]
    }
   ],
   "source": [
    "minz1 = 100\n",
    "for m in b1:\n",
    "    d1 = distance(a,m)\n",
    "    if d1<minz1:\n",
    "        minz1 = d\n",
    "        Best1 = m\n",
    "print(\"Расстояние Левeнштейна = \" + str(minz1), '\\n'\n",
    "      \"Лучший вариант - \" + Best1)"
   ]
  }
 ],
 "metadata": {
  "kernelspec": {
   "display_name": "Python 3",
   "language": "python",
   "name": "python3"
  },
  "language_info": {
   "codemirror_mode": {
    "name": "ipython",
    "version": 3
   },
   "file_extension": ".py",
   "mimetype": "text/x-python",
   "name": "python",
   "nbconvert_exporter": "python",
   "pygments_lexer": "ipython3",
   "version": "3.7.1"
  }
 },
 "nbformat": 4,
 "nbformat_minor": 2
}
